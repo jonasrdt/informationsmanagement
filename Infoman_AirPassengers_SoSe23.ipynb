{
 "cells": [
  {
   "cell_type": "markdown",
   "id": "884d9a04",
   "metadata": {
    "slideshow": {
     "slide_type": "slide"
    }
   },
   "source": [
    "# Laden und visualisieren von Zeitreihendaten"
   ]
  },
  {
   "cell_type": "markdown",
   "id": "904f4cef",
   "metadata": {
    "slideshow": {
     "slide_type": "fragment"
    }
   },
   "source": [
    "- Laden Sie einen Zeitreihen-Datensatz in Python\n",
    "- Verwende Sie Matplotlib oder Seaborn, um die Daten zu visualisieren und Trends zu erkennen\n",
    "- Erstellen Sie verschiedene Diagramme\n",
    "    - Line-Plots\n",
    "    - Scatter-Plots\n",
    "    - Histogramme"
   ]
  },
  {
   "cell_type": "markdown",
   "id": "c58b3070",
   "metadata": {
    "slideshow": {
     "slide_type": "slide"
    }
   },
   "source": [
    "### 1. Schritt\n",
    "- Laden Sie den \"AirPassengers\" Zeitreihendatensatz aus dem Paket \"datasets\" von Seaborn und visualisieren Sie die Daten mit einem Line-Plot.\n",
    "\n",
    "Mithilfe von `import seaborn as sns` können Sie die Bibliothek `seaborn` importieren und den Alias `sns` vergeben. Der Alias bedeutet, dass Sie die Bibliothek künftig unter dem Kürzel `sns` aufrufen können."
   ]
  },
  {
   "cell_type": "code",
   "execution_count": 35,
   "id": "8084aa1a",
   "metadata": {
    "slideshow": {
     "slide_type": "fragment"
    }
   },
   "outputs": [],
   "source": [
    "# Fügen Sie hier den Code ein und führen ihn mit STRG + ENTER aus\n"
   ]
  },
  {
   "cell_type": "markdown",
   "id": "535085a1",
   "metadata": {
    "slideshow": {
     "slide_type": "slide"
    }
   },
   "source": [
    "Als nächstes definierne Sie eine Variable mit dem Namen `air_passengers` und laden das Dataset mithilfe von `sns`.\n",
    "\n",
    "```python\n",
    "air_passengers = sns.load_dataset(\"flights\")\n",
    "```"
   ]
  },
  {
   "cell_type": "code",
   "execution_count": 34,
   "id": "31ed9a42",
   "metadata": {
    "slideshow": {
     "slide_type": "fragment"
    }
   },
   "outputs": [],
   "source": [
    "# Fügen Sie hier den Code ein und führen ihn mit STRG + ENTER aus\n"
   ]
  },
  {
   "cell_type": "markdown",
   "id": "042e173e",
   "metadata": {
    "slideshow": {
     "slide_type": "slide"
    }
   },
   "source": [
    "Nachdem Sie die Daten des Datasets `flights` geladen haben, wollen Sie diese nun grafisch darstellen.\n",
    "\n",
    "```python\n",
    "sns.lineplot(x=\"year\", y=\"passengers\", data=air_passengers)\n",
    "```"
   ]
  },
  {
   "cell_type": "code",
   "execution_count": 33,
   "id": "35185f9d",
   "metadata": {
    "slideshow": {
     "slide_type": "fragment"
    }
   },
   "outputs": [],
   "source": [
    "# Fügen Sie hier den Code ein und führen ihn mit STRG + ENTER aus\n"
   ]
  },
  {
   "cell_type": "markdown",
   "id": "ee765eda",
   "metadata": {
    "slideshow": {
     "slide_type": "fragment"
    }
   },
   "source": [
    "Congratulations! Sie haben soeben Ihren ersten Datensatz eingelesen und geplottet."
   ]
  },
  {
   "cell_type": "markdown",
   "id": "e0b8f2a1",
   "metadata": {
    "slideshow": {
     "slide_type": "slide"
    }
   },
   "source": [
    "### 2. Schritt\n",
    "- Modifizieren Sie den \"AirPassengers\" Zeitreihendatensatz in dem Pandas DataFrame, um anschließend eine Moving-Average-Analyse durchzuführen und saisonale Schwankungen zu identifizieren. Mithilfe von `matplotlib` werden wir das Ergebnis grafisch darstellen.\n",
    "\n",
    "``` python\n",
    "import pandas as pd\n",
    "air_passengers[\"date\"] = pd.to_datetime(air_passengers[\"year\"].astype(str) + \"-\" + air_passengers[\"month\"].astype(str))\n",
    "```"
   ]
  },
  {
   "cell_type": "code",
   "execution_count": 28,
   "id": "f72a58fa",
   "metadata": {
    "slideshow": {
     "slide_type": "fragment"
    }
   },
   "outputs": [
    {
     "name": "stderr",
     "output_type": "stream",
     "text": [
      "/tmp/ipykernel_49385/2069467122.py:3: UserWarning: Could not infer format, so each element will be parsed individually, falling back to `dateutil`. To ensure parsing is consistent and as-expected, please specify a format.\n",
      "  air_passengers[\"date\"] = pd.to_datetime(air_passengers[\"year\"].astype(str) + \"-\" + air_passengers[\"month\"].astype(str))\n"
     ]
    }
   ],
   "source": [
    "# Fügen Sie hier Ihren Code ein und führen ihn mit STRG + ENTER aus\n",
    "# Etwaige Fehlermeldungen können Sie ignorieren\n",
    "import pandas as pd\n"
   ]
  },
  {
   "cell_type": "markdown",
   "id": "13d7f5aa",
   "metadata": {
    "slideshow": {
     "slide_type": "slide"
    }
   },
   "source": [
    "Nachdem wir die Spalte `date` aus dem Datentsatz `air_passengers` in Jahre und Monate aufgeteilt und in den Datentyp `String (str)` umgewandelt haben, setzen wir das Datum `date` als Index.\n",
    "\n",
    "```python\n",
    "air_passengers.set_index(\"date\", inplace=True)\n",
    "```"
   ]
  },
  {
   "cell_type": "code",
   "execution_count": 17,
   "id": "c0086635",
   "metadata": {
    "slideshow": {
     "slide_type": "fragment"
    }
   },
   "outputs": [],
   "source": [
    "# Fügen Sie hier Ihren Code ein und führen ihn mit STRG + ENTER aus\n"
   ]
  },
  {
   "cell_type": "markdown",
   "id": "1389ed8f",
   "metadata": {
    "slideshow": {
     "slide_type": "slide"
    }
   },
   "source": [
    "Super! Nachdem wir alle Daten eingelesen und entsprechend vorbereitet haben, berechnen wir jetzt den Moving-Average auf 12 Monate gerechnet.\n",
    "\n",
    "```python\n",
    "rolling_mean = air_passengers[\"passengers\"].rolling(window=12).mean()\n",
    "````"
   ]
  },
  {
   "cell_type": "code",
   "execution_count": 30,
   "id": "109b0f90",
   "metadata": {
    "slideshow": {
     "slide_type": "fragment"
    }
   },
   "outputs": [],
   "source": [
    "# Fügen Sie hier Ihren Code ein und führen ihn mit STRG + ENTER aus\n"
   ]
  },
  {
   "cell_type": "markdown",
   "id": "6ec81180",
   "metadata": {
    "slideshow": {
     "slide_type": "slide"
    }
   },
   "source": [
    "Last but not least nutzen wir die Python Bibliothek `matplotlib`, importieren diese unter dem Alias `plt` und erstellen daraus einen `plot`.\n",
    "\n",
    "```python\n",
    "import matplotlib.pyplot as plt\n",
    "```"
   ]
  },
  {
   "cell_type": "code",
   "execution_count": 32,
   "id": "dd2a1868",
   "metadata": {
    "slideshow": {
     "slide_type": "fragment"
    }
   },
   "outputs": [],
   "source": [
    "# Fügen Sie hier Ihren Code ein und führen ihn mit STRG + ENTER aus\n"
   ]
  },
  {
   "cell_type": "markdown",
   "id": "e929c852",
   "metadata": {
    "slideshow": {
     "slide_type": "slide"
    }
   },
   "source": [
    "Nachdem wir den `plot` definiert haben, müssen wir noch die Achsen beschriften und die anzuzeigenden Daten zuweisen. In diesem Fall weisen wir die Anzahl der `passengers` das Label `actual` und dem Ergebnis unserer `rolling_mean` Berechnung das Label `Rolling Mean` zu. Anschließend zeigen wir den plot mit `plt.show()` an. \n",
    "\n",
    "```python\n",
    "fig, ax = plt.subplots()\n",
    "ax.plot(air_passengers.index, air_passengers[\"passengers\"], label=\"Actual\")\n",
    "ax.plot(air_passengers.index, rolling_mean, label=\"Rolling Mean\")\n",
    "ax.legend()\n",
    "plt.show()\n",
    "```"
   ]
  },
  {
   "cell_type": "code",
   "execution_count": 31,
   "id": "bcd68ed7",
   "metadata": {
    "slideshow": {
     "slide_type": "slide"
    }
   },
   "outputs": [
    {
     "data": {
      "image/png": "[encoded data removed]",
      "text/plain": [
       "<Figure size 432x288 with 1 Axes>"
      ]
     },
     "metadata": {
      "needs_background": "light"
     },
     "output_type": "display_data"
    }
   ],
   "source": [
    "# Fügen Sie hier Ihren Code ein und führen ihn mit STRG + ENTER aus\n"
   ]
  }
 ],
 "metadata": {
  "celltoolbar": "Slideshow",
  "kernelspec": {
   "display_name": "Python 3 (ipykernel)",
   "language": "python",
   "name": "python3"
  },
  "language_info": {
   "codemirror_mode": {
    "name": "ipython",
    "version": 3
   },
   "file_extension": ".py",
   "mimetype": "text/x-python",
   "name": "python",
   "nbconvert_exporter": "python",
   "pygments_lexer": "ipython3",
   "version": "3.9.7"
  }
 },
 "nbformat": 4,
 "nbformat_minor": 5
}
